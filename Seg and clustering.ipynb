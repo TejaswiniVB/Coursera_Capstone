{
 "cells": [
  {
   "cell_type": "markdown",
   "metadata": {},
   "source": [
    "# PART 1"
   ]
  },
  {
   "cell_type": "markdown",
   "metadata": {},
   "source": [
    "### Import the necessary libraries"
   ]
  },
  {
   "cell_type": "code",
   "execution_count": 1,
   "metadata": {},
   "outputs": [],
   "source": [
    "import pandas as pd\n",
    "import numpy as np\n",
    "import requests\n",
    "import json\n",
    "from pandas.io.json import json_normalize"
   ]
  },
  {
   "cell_type": "markdown",
   "metadata": {},
   "source": [
    "### 1. Cleaning "
   ]
  },
  {
   "cell_type": "markdown",
   "metadata": {},
   "source": [
    "#### Read the contents on the url page into a pandas dataframe."
   ]
  },
  {
   "cell_type": "code",
   "execution_count": 2,
   "metadata": {},
   "outputs": [],
   "source": [
    "df=pd.read_html('https://en.wikipedia.org/wiki/List_of_postal_codes_of_Canada:_M')"
   ]
  },
  {
   "cell_type": "markdown",
   "metadata": {},
   "source": [
    "#### We need only the first table's contents into our dataframe."
   ]
  },
  {
   "cell_type": "code",
   "execution_count": 3,
   "metadata": {},
   "outputs": [],
   "source": [
    "df=df[0]"
   ]
  },
  {
   "cell_type": "markdown",
   "metadata": {},
   "source": [
    "#### Check the contents of the table."
   ]
  },
  {
   "cell_type": "code",
   "execution_count": 4,
   "metadata": {},
   "outputs": [
    {
     "data": {
      "text/html": [
       "<div>\n",
       "<style scoped>\n",
       "    .dataframe tbody tr th:only-of-type {\n",
       "        vertical-align: middle;\n",
       "    }\n",
       "\n",
       "    .dataframe tbody tr th {\n",
       "        vertical-align: top;\n",
       "    }\n",
       "\n",
       "    .dataframe thead th {\n",
       "        text-align: right;\n",
       "    }\n",
       "</style>\n",
       "<table border=\"1\" class=\"dataframe\">\n",
       "  <thead>\n",
       "    <tr style=\"text-align: right;\">\n",
       "      <th></th>\n",
       "      <th>Postal Code</th>\n",
       "      <th>Borough</th>\n",
       "      <th>Neighborhood</th>\n",
       "    </tr>\n",
       "  </thead>\n",
       "  <tbody>\n",
       "    <tr>\n",
       "      <th>0</th>\n",
       "      <td>M1A</td>\n",
       "      <td>Not assigned</td>\n",
       "      <td>Not assigned</td>\n",
       "    </tr>\n",
       "    <tr>\n",
       "      <th>1</th>\n",
       "      <td>M2A</td>\n",
       "      <td>Not assigned</td>\n",
       "      <td>Not assigned</td>\n",
       "    </tr>\n",
       "    <tr>\n",
       "      <th>2</th>\n",
       "      <td>M3A</td>\n",
       "      <td>North York</td>\n",
       "      <td>Parkwoods</td>\n",
       "    </tr>\n",
       "    <tr>\n",
       "      <th>3</th>\n",
       "      <td>M4A</td>\n",
       "      <td>North York</td>\n",
       "      <td>Victoria Village</td>\n",
       "    </tr>\n",
       "    <tr>\n",
       "      <th>4</th>\n",
       "      <td>M5A</td>\n",
       "      <td>Downtown Toronto</td>\n",
       "      <td>Regent Park, Harbourfront</td>\n",
       "    </tr>\n",
       "  </tbody>\n",
       "</table>\n",
       "</div>"
      ],
      "text/plain": [
       "  Postal Code           Borough               Neighborhood\n",
       "0         M1A      Not assigned               Not assigned\n",
       "1         M2A      Not assigned               Not assigned\n",
       "2         M3A        North York                  Parkwoods\n",
       "3         M4A        North York           Victoria Village\n",
       "4         M5A  Downtown Toronto  Regent Park, Harbourfront"
      ]
     },
     "execution_count": 4,
     "metadata": {},
     "output_type": "execute_result"
    }
   ],
   "source": [
    "df.head()"
   ]
  },
  {
   "cell_type": "markdown",
   "metadata": {},
   "source": [
    "#### Eliminate the rows where the borough column has value equals to not assigned."
   ]
  },
  {
   "cell_type": "code",
   "execution_count": 5,
   "metadata": {},
   "outputs": [],
   "source": [
    "df=df[df['Borough']!='Not assigned']"
   ]
  },
  {
   "cell_type": "code",
   "execution_count": 6,
   "metadata": {},
   "outputs": [
    {
     "data": {
      "text/html": [
       "<div>\n",
       "<style scoped>\n",
       "    .dataframe tbody tr th:only-of-type {\n",
       "        vertical-align: middle;\n",
       "    }\n",
       "\n",
       "    .dataframe tbody tr th {\n",
       "        vertical-align: top;\n",
       "    }\n",
       "\n",
       "    .dataframe thead th {\n",
       "        text-align: right;\n",
       "    }\n",
       "</style>\n",
       "<table border=\"1\" class=\"dataframe\">\n",
       "  <thead>\n",
       "    <tr style=\"text-align: right;\">\n",
       "      <th></th>\n",
       "      <th>Postal Code</th>\n",
       "      <th>Borough</th>\n",
       "      <th>Neighborhood</th>\n",
       "    </tr>\n",
       "  </thead>\n",
       "  <tbody>\n",
       "    <tr>\n",
       "      <th>2</th>\n",
       "      <td>M3A</td>\n",
       "      <td>North York</td>\n",
       "      <td>Parkwoods</td>\n",
       "    </tr>\n",
       "    <tr>\n",
       "      <th>3</th>\n",
       "      <td>M4A</td>\n",
       "      <td>North York</td>\n",
       "      <td>Victoria Village</td>\n",
       "    </tr>\n",
       "    <tr>\n",
       "      <th>4</th>\n",
       "      <td>M5A</td>\n",
       "      <td>Downtown Toronto</td>\n",
       "      <td>Regent Park, Harbourfront</td>\n",
       "    </tr>\n",
       "    <tr>\n",
       "      <th>5</th>\n",
       "      <td>M6A</td>\n",
       "      <td>North York</td>\n",
       "      <td>Lawrence Manor, Lawrence Heights</td>\n",
       "    </tr>\n",
       "    <tr>\n",
       "      <th>6</th>\n",
       "      <td>M7A</td>\n",
       "      <td>Downtown Toronto</td>\n",
       "      <td>Queen's Park, Ontario Provincial Government</td>\n",
       "    </tr>\n",
       "    <tr>\n",
       "      <th>...</th>\n",
       "      <td>...</td>\n",
       "      <td>...</td>\n",
       "      <td>...</td>\n",
       "    </tr>\n",
       "    <tr>\n",
       "      <th>160</th>\n",
       "      <td>M8X</td>\n",
       "      <td>Etobicoke</td>\n",
       "      <td>The Kingsway, Montgomery Road, Old Mill North</td>\n",
       "    </tr>\n",
       "    <tr>\n",
       "      <th>165</th>\n",
       "      <td>M4Y</td>\n",
       "      <td>Downtown Toronto</td>\n",
       "      <td>Church and Wellesley</td>\n",
       "    </tr>\n",
       "    <tr>\n",
       "      <th>168</th>\n",
       "      <td>M7Y</td>\n",
       "      <td>East Toronto</td>\n",
       "      <td>Business reply mail Processing Centre, South C...</td>\n",
       "    </tr>\n",
       "    <tr>\n",
       "      <th>169</th>\n",
       "      <td>M8Y</td>\n",
       "      <td>Etobicoke</td>\n",
       "      <td>Old Mill South, King's Mill Park, Sunnylea, Hu...</td>\n",
       "    </tr>\n",
       "    <tr>\n",
       "      <th>178</th>\n",
       "      <td>M8Z</td>\n",
       "      <td>Etobicoke</td>\n",
       "      <td>Mimico NW, The Queensway West, South of Bloor,...</td>\n",
       "    </tr>\n",
       "  </tbody>\n",
       "</table>\n",
       "<p>103 rows × 3 columns</p>\n",
       "</div>"
      ],
      "text/plain": [
       "    Postal Code           Borough  \\\n",
       "2           M3A        North York   \n",
       "3           M4A        North York   \n",
       "4           M5A  Downtown Toronto   \n",
       "5           M6A        North York   \n",
       "6           M7A  Downtown Toronto   \n",
       "..          ...               ...   \n",
       "160         M8X         Etobicoke   \n",
       "165         M4Y  Downtown Toronto   \n",
       "168         M7Y      East Toronto   \n",
       "169         M8Y         Etobicoke   \n",
       "178         M8Z         Etobicoke   \n",
       "\n",
       "                                          Neighborhood  \n",
       "2                                            Parkwoods  \n",
       "3                                     Victoria Village  \n",
       "4                            Regent Park, Harbourfront  \n",
       "5                     Lawrence Manor, Lawrence Heights  \n",
       "6          Queen's Park, Ontario Provincial Government  \n",
       "..                                                 ...  \n",
       "160      The Kingsway, Montgomery Road, Old Mill North  \n",
       "165                               Church and Wellesley  \n",
       "168  Business reply mail Processing Centre, South C...  \n",
       "169  Old Mill South, King's Mill Park, Sunnylea, Hu...  \n",
       "178  Mimico NW, The Queensway West, South of Bloor,...  \n",
       "\n",
       "[103 rows x 3 columns]"
      ]
     },
     "execution_count": 6,
     "metadata": {},
     "output_type": "execute_result"
    }
   ],
   "source": [
    "df"
   ]
  },
  {
   "cell_type": "markdown",
   "metadata": {},
   "source": [
    "#### Check if there are any rows for which the Neighborhood column values were not assigned."
   ]
  },
  {
   "cell_type": "code",
   "execution_count": 7,
   "metadata": {},
   "outputs": [
    {
     "data": {
      "text/html": [
       "<div>\n",
       "<style scoped>\n",
       "    .dataframe tbody tr th:only-of-type {\n",
       "        vertical-align: middle;\n",
       "    }\n",
       "\n",
       "    .dataframe tbody tr th {\n",
       "        vertical-align: top;\n",
       "    }\n",
       "\n",
       "    .dataframe thead th {\n",
       "        text-align: right;\n",
       "    }\n",
       "</style>\n",
       "<table border=\"1\" class=\"dataframe\">\n",
       "  <thead>\n",
       "    <tr style=\"text-align: right;\">\n",
       "      <th></th>\n",
       "      <th>Postal Code</th>\n",
       "      <th>Borough</th>\n",
       "      <th>Neighborhood</th>\n",
       "    </tr>\n",
       "  </thead>\n",
       "  <tbody>\n",
       "  </tbody>\n",
       "</table>\n",
       "</div>"
      ],
      "text/plain": [
       "Empty DataFrame\n",
       "Columns: [Postal Code, Borough, Neighborhood]\n",
       "Index: []"
      ]
     },
     "execution_count": 7,
     "metadata": {},
     "output_type": "execute_result"
    }
   ],
   "source": [
    "df[df['Neighborhood']=='Not assigned']"
   ]
  },
  {
   "cell_type": "markdown",
   "metadata": {},
   "source": [
    "Since there are no rows, we don't have to assign to any rows the same value as Borough."
   ]
  },
  {
   "cell_type": "markdown",
   "metadata": {},
   "source": [
    "#### If there are any rows with the same postal code, then we are combining them and joining with ',' to form a single row."
   ]
  },
  {
   "cell_type": "code",
   "execution_count": 8,
   "metadata": {},
   "outputs": [
    {
     "data": {
      "text/html": [
       "<div>\n",
       "<style scoped>\n",
       "    .dataframe tbody tr th:only-of-type {\n",
       "        vertical-align: middle;\n",
       "    }\n",
       "\n",
       "    .dataframe tbody tr th {\n",
       "        vertical-align: top;\n",
       "    }\n",
       "\n",
       "    .dataframe thead th {\n",
       "        text-align: right;\n",
       "    }\n",
       "</style>\n",
       "<table border=\"1\" class=\"dataframe\">\n",
       "  <thead>\n",
       "    <tr style=\"text-align: right;\">\n",
       "      <th></th>\n",
       "      <th>Postal Code</th>\n",
       "      <th>Neighborhood</th>\n",
       "    </tr>\n",
       "  </thead>\n",
       "  <tbody>\n",
       "    <tr>\n",
       "      <th>0</th>\n",
       "      <td>M1B</td>\n",
       "      <td>Malvern, Rouge</td>\n",
       "    </tr>\n",
       "    <tr>\n",
       "      <th>1</th>\n",
       "      <td>M1C</td>\n",
       "      <td>Rouge Hill, Port Union, Highland Creek</td>\n",
       "    </tr>\n",
       "    <tr>\n",
       "      <th>2</th>\n",
       "      <td>M1E</td>\n",
       "      <td>Guildwood, Morningside, West Hill</td>\n",
       "    </tr>\n",
       "    <tr>\n",
       "      <th>3</th>\n",
       "      <td>M1G</td>\n",
       "      <td>Woburn</td>\n",
       "    </tr>\n",
       "    <tr>\n",
       "      <th>4</th>\n",
       "      <td>M1H</td>\n",
       "      <td>Cedarbrae</td>\n",
       "    </tr>\n",
       "    <tr>\n",
       "      <th>...</th>\n",
       "      <td>...</td>\n",
       "      <td>...</td>\n",
       "    </tr>\n",
       "    <tr>\n",
       "      <th>98</th>\n",
       "      <td>M9N</td>\n",
       "      <td>Weston</td>\n",
       "    </tr>\n",
       "    <tr>\n",
       "      <th>99</th>\n",
       "      <td>M9P</td>\n",
       "      <td>Westmount</td>\n",
       "    </tr>\n",
       "    <tr>\n",
       "      <th>100</th>\n",
       "      <td>M9R</td>\n",
       "      <td>Kingsview Village, St. Phillips, Martin Grove ...</td>\n",
       "    </tr>\n",
       "    <tr>\n",
       "      <th>101</th>\n",
       "      <td>M9V</td>\n",
       "      <td>South Steeles, Silverstone, Humbergate, Jamest...</td>\n",
       "    </tr>\n",
       "    <tr>\n",
       "      <th>102</th>\n",
       "      <td>M9W</td>\n",
       "      <td>Northwest, West Humber - Clairville</td>\n",
       "    </tr>\n",
       "  </tbody>\n",
       "</table>\n",
       "<p>103 rows × 2 columns</p>\n",
       "</div>"
      ],
      "text/plain": [
       "    Postal Code                                       Neighborhood\n",
       "0           M1B                                     Malvern, Rouge\n",
       "1           M1C             Rouge Hill, Port Union, Highland Creek\n",
       "2           M1E                  Guildwood, Morningside, West Hill\n",
       "3           M1G                                             Woburn\n",
       "4           M1H                                          Cedarbrae\n",
       "..          ...                                                ...\n",
       "98          M9N                                             Weston\n",
       "99          M9P                                          Westmount\n",
       "100         M9R  Kingsview Village, St. Phillips, Martin Grove ...\n",
       "101         M9V  South Steeles, Silverstone, Humbergate, Jamest...\n",
       "102         M9W                Northwest, West Humber - Clairville\n",
       "\n",
       "[103 rows x 2 columns]"
      ]
     },
     "execution_count": 8,
     "metadata": {},
     "output_type": "execute_result"
    }
   ],
   "source": [
    "df.groupby('Postal Code')['Neighborhood'].apply(','.join).reset_index()"
   ]
  },
  {
   "cell_type": "markdown",
   "metadata": {},
   "source": [
    "#### Shape of the dataframe"
   ]
  },
  {
   "cell_type": "code",
   "execution_count": 9,
   "metadata": {},
   "outputs": [
    {
     "data": {
      "text/plain": [
       "(103, 3)"
      ]
     },
     "execution_count": 9,
     "metadata": {},
     "output_type": "execute_result"
    }
   ],
   "source": [
    "df.shape"
   ]
  },
  {
   "cell_type": "markdown",
   "metadata": {},
   "source": [
    "# PART 2"
   ]
  },
  {
   "cell_type": "markdown",
   "metadata": {},
   "source": [
    "#### Read the csv file into another dataframe."
   ]
  },
  {
   "cell_type": "code",
   "execution_count": 10,
   "metadata": {},
   "outputs": [],
   "source": [
    "coord=pd.read_csv('/Users/tejaswiniv/Downloads/Geospatial_Coordinates.csv')"
   ]
  },
  {
   "cell_type": "code",
   "execution_count": 11,
   "metadata": {},
   "outputs": [
    {
     "data": {
      "text/html": [
       "<div>\n",
       "<style scoped>\n",
       "    .dataframe tbody tr th:only-of-type {\n",
       "        vertical-align: middle;\n",
       "    }\n",
       "\n",
       "    .dataframe tbody tr th {\n",
       "        vertical-align: top;\n",
       "    }\n",
       "\n",
       "    .dataframe thead th {\n",
       "        text-align: right;\n",
       "    }\n",
       "</style>\n",
       "<table border=\"1\" class=\"dataframe\">\n",
       "  <thead>\n",
       "    <tr style=\"text-align: right;\">\n",
       "      <th></th>\n",
       "      <th>Postal Code</th>\n",
       "      <th>Latitude</th>\n",
       "      <th>Longitude</th>\n",
       "    </tr>\n",
       "  </thead>\n",
       "  <tbody>\n",
       "    <tr>\n",
       "      <th>0</th>\n",
       "      <td>M1B</td>\n",
       "      <td>43.806686</td>\n",
       "      <td>-79.194353</td>\n",
       "    </tr>\n",
       "    <tr>\n",
       "      <th>1</th>\n",
       "      <td>M1C</td>\n",
       "      <td>43.784535</td>\n",
       "      <td>-79.160497</td>\n",
       "    </tr>\n",
       "    <tr>\n",
       "      <th>2</th>\n",
       "      <td>M1E</td>\n",
       "      <td>43.763573</td>\n",
       "      <td>-79.188711</td>\n",
       "    </tr>\n",
       "    <tr>\n",
       "      <th>3</th>\n",
       "      <td>M1G</td>\n",
       "      <td>43.770992</td>\n",
       "      <td>-79.216917</td>\n",
       "    </tr>\n",
       "    <tr>\n",
       "      <th>4</th>\n",
       "      <td>M1H</td>\n",
       "      <td>43.773136</td>\n",
       "      <td>-79.239476</td>\n",
       "    </tr>\n",
       "  </tbody>\n",
       "</table>\n",
       "</div>"
      ],
      "text/plain": [
       "  Postal Code   Latitude  Longitude\n",
       "0         M1B  43.806686 -79.194353\n",
       "1         M1C  43.784535 -79.160497\n",
       "2         M1E  43.763573 -79.188711\n",
       "3         M1G  43.770992 -79.216917\n",
       "4         M1H  43.773136 -79.239476"
      ]
     },
     "execution_count": 11,
     "metadata": {},
     "output_type": "execute_result"
    }
   ],
   "source": [
    "coord.head()"
   ]
  },
  {
   "cell_type": "code",
   "execution_count": 12,
   "metadata": {},
   "outputs": [
    {
     "data": {
      "text/plain": [
       "(103, 3)"
      ]
     },
     "execution_count": 12,
     "metadata": {},
     "output_type": "execute_result"
    }
   ],
   "source": [
    "coord.shape"
   ]
  },
  {
   "cell_type": "markdown",
   "metadata": {},
   "source": [
    "#### Merge the dataframes df and coord into one dataframe based on the Postal Code."
   ]
  },
  {
   "cell_type": "code",
   "execution_count": 13,
   "metadata": {},
   "outputs": [
    {
     "data": {
      "text/html": [
       "<div>\n",
       "<style scoped>\n",
       "    .dataframe tbody tr th:only-of-type {\n",
       "        vertical-align: middle;\n",
       "    }\n",
       "\n",
       "    .dataframe tbody tr th {\n",
       "        vertical-align: top;\n",
       "    }\n",
       "\n",
       "    .dataframe thead th {\n",
       "        text-align: right;\n",
       "    }\n",
       "</style>\n",
       "<table border=\"1\" class=\"dataframe\">\n",
       "  <thead>\n",
       "    <tr style=\"text-align: right;\">\n",
       "      <th></th>\n",
       "      <th>Postal Code</th>\n",
       "      <th>Borough</th>\n",
       "      <th>Neighborhood</th>\n",
       "      <th>Latitude</th>\n",
       "      <th>Longitude</th>\n",
       "    </tr>\n",
       "  </thead>\n",
       "  <tbody>\n",
       "    <tr>\n",
       "      <th>0</th>\n",
       "      <td>M3A</td>\n",
       "      <td>North York</td>\n",
       "      <td>Parkwoods</td>\n",
       "      <td>43.753259</td>\n",
       "      <td>-79.329656</td>\n",
       "    </tr>\n",
       "    <tr>\n",
       "      <th>1</th>\n",
       "      <td>M4A</td>\n",
       "      <td>North York</td>\n",
       "      <td>Victoria Village</td>\n",
       "      <td>43.725882</td>\n",
       "      <td>-79.315572</td>\n",
       "    </tr>\n",
       "    <tr>\n",
       "      <th>2</th>\n",
       "      <td>M5A</td>\n",
       "      <td>Downtown Toronto</td>\n",
       "      <td>Regent Park, Harbourfront</td>\n",
       "      <td>43.654260</td>\n",
       "      <td>-79.360636</td>\n",
       "    </tr>\n",
       "    <tr>\n",
       "      <th>3</th>\n",
       "      <td>M6A</td>\n",
       "      <td>North York</td>\n",
       "      <td>Lawrence Manor, Lawrence Heights</td>\n",
       "      <td>43.718518</td>\n",
       "      <td>-79.464763</td>\n",
       "    </tr>\n",
       "    <tr>\n",
       "      <th>4</th>\n",
       "      <td>M7A</td>\n",
       "      <td>Downtown Toronto</td>\n",
       "      <td>Queen's Park, Ontario Provincial Government</td>\n",
       "      <td>43.662301</td>\n",
       "      <td>-79.389494</td>\n",
       "    </tr>\n",
       "  </tbody>\n",
       "</table>\n",
       "</div>"
      ],
      "text/plain": [
       "  Postal Code           Borough                                 Neighborhood  \\\n",
       "0         M3A        North York                                    Parkwoods   \n",
       "1         M4A        North York                             Victoria Village   \n",
       "2         M5A  Downtown Toronto                    Regent Park, Harbourfront   \n",
       "3         M6A        North York             Lawrence Manor, Lawrence Heights   \n",
       "4         M7A  Downtown Toronto  Queen's Park, Ontario Provincial Government   \n",
       "\n",
       "    Latitude  Longitude  \n",
       "0  43.753259 -79.329656  \n",
       "1  43.725882 -79.315572  \n",
       "2  43.654260 -79.360636  \n",
       "3  43.718518 -79.464763  \n",
       "4  43.662301 -79.389494  "
      ]
     },
     "execution_count": 13,
     "metadata": {},
     "output_type": "execute_result"
    }
   ],
   "source": [
    "df=pd.merge(df, coord, on='Postal Code')\n",
    "df.head()"
   ]
  },
  {
   "cell_type": "code",
   "execution_count": 14,
   "metadata": {},
   "outputs": [],
   "source": [
    "import folium\n",
    "from geopy.geocoders import Nominatim"
   ]
  },
  {
   "cell_type": "code",
   "execution_count": 15,
   "metadata": {},
   "outputs": [
    {
     "name": "stdout",
     "output_type": "stream",
     "text": [
      "The geograpical coordinate of Toronto are 43.6534817, -79.3839347.\n"
     ]
    }
   ],
   "source": [
    "address = 'Toronto, Ontario'\n",
    "\n",
    "geolocator = Nominatim(user_agent=\"ny_explorer\")\n",
    "location = geolocator.geocode(address)\n",
    "latitude = location.latitude\n",
    "longitude = location.longitude\n",
    "print('The geograpical coordinate of Toronto are {}, {}.'.format(latitude, longitude))"
   ]
  },
  {
   "cell_type": "markdown",
   "metadata": {},
   "source": [
    "### Plot all the places on the map"
   ]
  },
  {
   "cell_type": "code",
   "execution_count": 16,
   "metadata": {
    "scrolled": true
   },
   "outputs": [
    {
     "data": {
      "text/html": [
       "<div style=\"width:100%;\"><div style=\"position:relative;width:100%;height:0;padding-bottom:60%;\"><span style=\"color:#565656\">Make this Notebook Trusted to load map: File -> Trust Notebook</span><iframe src=\"about:blank\" style=\"position:absolute;width:100%;height:100%;left:0;top:0;border:none !important;\" data-html=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 onload=\"this.contentDocument.open();this.contentDocument.write(atob(this.getAttribute('data-html')));this.contentDocument.close();\" allowfullscreen webkitallowfullscreen mozallowfullscreen></iframe></div></div>"
      ],
      "text/plain": [
       "<folium.folium.Map at 0x7fc85e8808d0>"
      ]
     },
     "execution_count": 16,
     "metadata": {},
     "output_type": "execute_result"
    }
   ],
   "source": [
    "map_toronto = folium.Map(location=[latitude, longitude], zoom_start=10)\n",
    "\n",
    "for lat, lng, borough, neighborhood in zip(df['Latitude'], df['Longitude'], df['Borough'], df['Neighborhood']):\n",
    "    label = '{}, {}'.format(neighborhood, borough)\n",
    "    label = folium.Popup(label, parse_html=True)\n",
    "    folium.CircleMarker(\n",
    "        [lat, lng],\n",
    "        radius=5,\n",
    "        popup=label,\n",
    "        color='red',\n",
    "        fill=True,\n",
    "        fill_color='red',\n",
    "        fill_opacity=0.7,\n",
    "        parse_html=False).add_to(map_toronto)  \n",
    "    \n",
    "map_toronto"
   ]
  },
  {
   "cell_type": "markdown",
   "metadata": {},
   "source": [
    "# PART 3"
   ]
  },
  {
   "cell_type": "markdown",
   "metadata": {},
   "source": [
    "### Enter the foursquare api credentials."
   ]
  },
  {
   "cell_type": "code",
   "execution_count": 17,
   "metadata": {},
   "outputs": [
    {
     "name": "stdout",
     "output_type": "stream",
     "text": [
      "Your credentails:\n",
      "CLIENT_ID: CXAUYKSMNQF5UBTO02H3YSCCGVGSKGQCVV3MQFVTYNU3NTBD\n",
      "CLIENT_SECRET:JDVDSCZAMBW3XRTO2K02E5SEKWIG4YFOH51JRGLTHMRGIGQR\n"
     ]
    }
   ],
   "source": [
    "CLIENT_ID = 'CXAUYKSMNQF5UBTO02H3YSCCGVGSKGQCVV3MQFVTYNU3NTBD' # your Foursquare ID\n",
    "CLIENT_SECRET = 'JDVDSCZAMBW3XRTO2K02E5SEKWIG4YFOH51JRGLTHMRGIGQR' # your Foursquare Secret\n",
    "VERSION = '20180605' # Foursquare API version\n",
    "\n",
    "print('Your credentails:')\n",
    "print('CLIENT_ID: ' + CLIENT_ID)\n",
    "print('CLIENT_SECRET:' + CLIENT_SECRET)"
   ]
  },
  {
   "cell_type": "markdown",
   "metadata": {},
   "source": [
    "### Find out the nearby venues in each neighbourhood."
   ]
  },
  {
   "cell_type": "markdown",
   "metadata": {},
   "source": [
    "We are going to figure out all the venues which are within a 500m proximity for each of the neighbourhood present in our df dataframe."
   ]
  },
  {
   "cell_type": "code",
   "execution_count": 18,
   "metadata": {},
   "outputs": [],
   "source": [
    "def getNearbyVenues(names, latitudes, longitudes, radius=500):\n",
    "    \n",
    "    venues_list=[]\n",
    "    for name, lat, lng in zip(names, latitudes, longitudes):\n",
    "        print(name)\n",
    "            \n",
    "        # create the API request URL\n",
    "        url = 'https://api.foursquare.com/v2/venues/explore?&client_id={}&client_secret={}&v={}&ll={},{}&radius={}&limit={}'.format(\n",
    "            CLIENT_ID, \n",
    "            CLIENT_SECRET, \n",
    "            VERSION, \n",
    "            lat, \n",
    "            lng, \n",
    "            500, \n",
    "            100)\n",
    "            \n",
    "        # make the GET request\n",
    "        results = requests.get(url).json()[\"response\"]['groups'][0]['items']\n",
    "        \n",
    "        # return only relevant information for each nearby venue\n",
    "        venues_list.append([(\n",
    "            name, \n",
    "            lat, \n",
    "            lng, \n",
    "            v['venue']['name'], \n",
    "            v['venue']['location']['lat'], \n",
    "            v['venue']['location']['lng'],  \n",
    "            v['venue']['categories'][0]['name']) for v in results])\n",
    "\n",
    "    nearby_venues = pd.DataFrame([item for venue_list in venues_list for item in venue_list])\n",
    "    nearby_venues.columns = ['Neighborhood', \n",
    "                  'Neighborhood Latitude', \n",
    "                  'Neighborhood Longitude', \n",
    "                  'Venue', \n",
    "                  'Venue Latitude', \n",
    "                  'Venue Longitude', \n",
    "                  'Venue Category']\n",
    "    \n",
    "    return(nearby_venues)"
   ]
  },
  {
   "cell_type": "markdown",
   "metadata": {},
   "source": [
    "You can figure out that we are processing every neighbourhood present within each row's borough."
   ]
  },
  {
   "cell_type": "code",
   "execution_count": 19,
   "metadata": {},
   "outputs": [
    {
     "name": "stdout",
     "output_type": "stream",
     "text": [
      "Parkwoods\n",
      "Victoria Village\n",
      "Regent Park, Harbourfront\n",
      "Lawrence Manor, Lawrence Heights\n",
      "Queen's Park, Ontario Provincial Government\n",
      "Islington Avenue, Humber Valley Village\n",
      "Malvern, Rouge\n",
      "Don Mills\n",
      "Parkview Hill, Woodbine Gardens\n",
      "Garden District, Ryerson\n",
      "Glencairn\n",
      "West Deane Park, Princess Gardens, Martin Grove, Islington, Cloverdale\n",
      "Rouge Hill, Port Union, Highland Creek\n",
      "Don Mills\n",
      "Woodbine Heights\n",
      "St. James Town\n",
      "Humewood-Cedarvale\n",
      "Eringate, Bloordale Gardens, Old Burnhamthorpe, Markland Wood\n",
      "Guildwood, Morningside, West Hill\n",
      "The Beaches\n",
      "Berczy Park\n",
      "Caledonia-Fairbanks\n",
      "Woburn\n",
      "Leaside\n",
      "Central Bay Street\n",
      "Christie\n",
      "Cedarbrae\n",
      "Hillcrest Village\n",
      "Bathurst Manor, Wilson Heights, Downsview North\n",
      "Thorncliffe Park\n",
      "Richmond, Adelaide, King\n",
      "Dufferin, Dovercourt Village\n",
      "Scarborough Village\n",
      "Fairview, Henry Farm, Oriole\n",
      "Northwood Park, York University\n",
      "East Toronto, Broadview North (Old East York)\n",
      "Harbourfront East, Union Station, Toronto Islands\n",
      "Little Portugal, Trinity\n",
      "Kennedy Park, Ionview, East Birchmount Park\n",
      "Bayview Village\n",
      "Downsview\n",
      "The Danforth West, Riverdale\n",
      "Toronto Dominion Centre, Design Exchange\n",
      "Brockton, Parkdale Village, Exhibition Place\n",
      "Golden Mile, Clairlea, Oakridge\n",
      "York Mills, Silver Hills\n",
      "Downsview\n",
      "India Bazaar, The Beaches West\n",
      "Commerce Court, Victoria Hotel\n",
      "North Park, Maple Leaf Park, Upwood Park\n",
      "Humber Summit\n",
      "Cliffside, Cliffcrest, Scarborough Village West\n",
      "Willowdale, Newtonbrook\n",
      "Downsview\n",
      "Studio District\n",
      "Bedford Park, Lawrence Manor East\n",
      "Del Ray, Mount Dennis, Keelsdale and Silverthorn\n",
      "Humberlea, Emery\n",
      "Birch Cliff, Cliffside West\n",
      "Willowdale, Willowdale East\n",
      "Downsview\n",
      "Lawrence Park\n",
      "Roselawn\n",
      "Runnymede, The Junction North\n",
      "Weston\n",
      "Dorset Park, Wexford Heights, Scarborough Town Centre\n",
      "York Mills West\n",
      "Davisville North\n",
      "Forest Hill North & West, Forest Hill Road Park\n",
      "High Park, The Junction South\n",
      "Westmount\n",
      "Wexford, Maryvale\n",
      "Willowdale, Willowdale West\n",
      "North Toronto West, Lawrence Park\n",
      "The Annex, North Midtown, Yorkville\n",
      "Parkdale, Roncesvalles\n",
      "Canada Post Gateway Processing Centre\n",
      "Kingsview Village, St. Phillips, Martin Grove Gardens, Richview Gardens\n",
      "Agincourt\n",
      "Davisville\n",
      "University of Toronto, Harbord\n",
      "Runnymede, Swansea\n",
      "Clarks Corners, Tam O'Shanter, Sullivan\n",
      "Moore Park, Summerhill East\n",
      "Kensington Market, Chinatown, Grange Park\n",
      "Milliken, Agincourt North, Steeles East, L'Amoreaux East\n",
      "Summerhill West, Rathnelly, South Hill, Forest Hill SE, Deer Park\n",
      "CN Tower, King and Spadina, Railway Lands, Harbourfront West, Bathurst Quay, South Niagara, Island airport\n",
      "New Toronto, Mimico South, Humber Bay Shores\n",
      "South Steeles, Silverstone, Humbergate, Jamestown, Mount Olive, Beaumond Heights, Thistletown, Albion Gardens\n",
      "Steeles West, L'Amoreaux West\n",
      "Rosedale\n",
      "Stn A PO Boxes\n",
      "Alderwood, Long Branch\n",
      "Northwest, West Humber - Clairville\n",
      "Upper Rouge\n",
      "St. James Town, Cabbagetown\n",
      "First Canadian Place, Underground city\n",
      "The Kingsway, Montgomery Road, Old Mill North\n",
      "Church and Wellesley\n",
      "Business reply mail Processing Centre, South Central Letter Processing Plant Toronto\n",
      "Old Mill South, King's Mill Park, Sunnylea, Humber Bay, Mimico NE, The Queensway East, Royal York South East, Kingsway Park South East\n",
      "Mimico NW, The Queensway West, South of Bloor, Kingsway Park South West, Royal York South West\n"
     ]
    }
   ],
   "source": [
    "toronto_venues = getNearbyVenues(names=df['Neighborhood'],\n",
    "                                   latitudes=df['Latitude'],\n",
    "                                   longitudes=df['Longitude']\n",
    "                                  )"
   ]
  },
  {
   "cell_type": "markdown",
   "metadata": {},
   "source": [
    "#### Let's explore the shape of the venues dataframe. You can observe there are about 2132 venues present."
   ]
  },
  {
   "cell_type": "code",
   "execution_count": 20,
   "metadata": {},
   "outputs": [
    {
     "name": "stdout",
     "output_type": "stream",
     "text": [
      "(2132, 7)\n"
     ]
    },
    {
     "data": {
      "text/html": [
       "<div>\n",
       "<style scoped>\n",
       "    .dataframe tbody tr th:only-of-type {\n",
       "        vertical-align: middle;\n",
       "    }\n",
       "\n",
       "    .dataframe tbody tr th {\n",
       "        vertical-align: top;\n",
       "    }\n",
       "\n",
       "    .dataframe thead th {\n",
       "        text-align: right;\n",
       "    }\n",
       "</style>\n",
       "<table border=\"1\" class=\"dataframe\">\n",
       "  <thead>\n",
       "    <tr style=\"text-align: right;\">\n",
       "      <th></th>\n",
       "      <th>Neighborhood</th>\n",
       "      <th>Neighborhood Latitude</th>\n",
       "      <th>Neighborhood Longitude</th>\n",
       "      <th>Venue</th>\n",
       "      <th>Venue Latitude</th>\n",
       "      <th>Venue Longitude</th>\n",
       "      <th>Venue Category</th>\n",
       "    </tr>\n",
       "  </thead>\n",
       "  <tbody>\n",
       "    <tr>\n",
       "      <th>0</th>\n",
       "      <td>Parkwoods</td>\n",
       "      <td>43.753259</td>\n",
       "      <td>-79.329656</td>\n",
       "      <td>Brookbanks Park</td>\n",
       "      <td>43.751976</td>\n",
       "      <td>-79.332140</td>\n",
       "      <td>Park</td>\n",
       "    </tr>\n",
       "    <tr>\n",
       "      <th>1</th>\n",
       "      <td>Parkwoods</td>\n",
       "      <td>43.753259</td>\n",
       "      <td>-79.329656</td>\n",
       "      <td>Variety Store</td>\n",
       "      <td>43.751974</td>\n",
       "      <td>-79.333114</td>\n",
       "      <td>Food &amp; Drink Shop</td>\n",
       "    </tr>\n",
       "    <tr>\n",
       "      <th>2</th>\n",
       "      <td>Victoria Village</td>\n",
       "      <td>43.725882</td>\n",
       "      <td>-79.315572</td>\n",
       "      <td>Victoria Village Arena</td>\n",
       "      <td>43.723481</td>\n",
       "      <td>-79.315635</td>\n",
       "      <td>Hockey Arena</td>\n",
       "    </tr>\n",
       "    <tr>\n",
       "      <th>3</th>\n",
       "      <td>Victoria Village</td>\n",
       "      <td>43.725882</td>\n",
       "      <td>-79.315572</td>\n",
       "      <td>Portugril</td>\n",
       "      <td>43.725819</td>\n",
       "      <td>-79.312785</td>\n",
       "      <td>Portuguese Restaurant</td>\n",
       "    </tr>\n",
       "    <tr>\n",
       "      <th>4</th>\n",
       "      <td>Victoria Village</td>\n",
       "      <td>43.725882</td>\n",
       "      <td>-79.315572</td>\n",
       "      <td>Tim Hortons</td>\n",
       "      <td>43.725517</td>\n",
       "      <td>-79.313103</td>\n",
       "      <td>Coffee Shop</td>\n",
       "    </tr>\n",
       "  </tbody>\n",
       "</table>\n",
       "</div>"
      ],
      "text/plain": [
       "       Neighborhood  Neighborhood Latitude  Neighborhood Longitude  \\\n",
       "0         Parkwoods              43.753259              -79.329656   \n",
       "1         Parkwoods              43.753259              -79.329656   \n",
       "2  Victoria Village              43.725882              -79.315572   \n",
       "3  Victoria Village              43.725882              -79.315572   \n",
       "4  Victoria Village              43.725882              -79.315572   \n",
       "\n",
       "                    Venue  Venue Latitude  Venue Longitude  \\\n",
       "0         Brookbanks Park       43.751976       -79.332140   \n",
       "1           Variety Store       43.751974       -79.333114   \n",
       "2  Victoria Village Arena       43.723481       -79.315635   \n",
       "3               Portugril       43.725819       -79.312785   \n",
       "4             Tim Hortons       43.725517       -79.313103   \n",
       "\n",
       "          Venue Category  \n",
       "0                   Park  \n",
       "1      Food & Drink Shop  \n",
       "2           Hockey Arena  \n",
       "3  Portuguese Restaurant  \n",
       "4            Coffee Shop  "
      ]
     },
     "execution_count": 20,
     "metadata": {},
     "output_type": "execute_result"
    }
   ],
   "source": [
    "print(toronto_venues.shape)\n",
    "toronto_venues.head()"
   ]
  },
  {
   "cell_type": "markdown",
   "metadata": {},
   "source": [
    "#### And you can find out the number of venues present in each of the neighbourhood as below:"
   ]
  },
  {
   "cell_type": "code",
   "execution_count": 21,
   "metadata": {},
   "outputs": [
    {
     "data": {
      "text/html": [
       "<div>\n",
       "<style scoped>\n",
       "    .dataframe tbody tr th:only-of-type {\n",
       "        vertical-align: middle;\n",
       "    }\n",
       "\n",
       "    .dataframe tbody tr th {\n",
       "        vertical-align: top;\n",
       "    }\n",
       "\n",
       "    .dataframe thead th {\n",
       "        text-align: right;\n",
       "    }\n",
       "</style>\n",
       "<table border=\"1\" class=\"dataframe\">\n",
       "  <thead>\n",
       "    <tr style=\"text-align: right;\">\n",
       "      <th></th>\n",
       "      <th>Neighborhood Latitude</th>\n",
       "      <th>Neighborhood Longitude</th>\n",
       "      <th>Venue</th>\n",
       "      <th>Venue Latitude</th>\n",
       "      <th>Venue Longitude</th>\n",
       "      <th>Venue Category</th>\n",
       "    </tr>\n",
       "    <tr>\n",
       "      <th>Neighborhood</th>\n",
       "      <th></th>\n",
       "      <th></th>\n",
       "      <th></th>\n",
       "      <th></th>\n",
       "      <th></th>\n",
       "      <th></th>\n",
       "    </tr>\n",
       "  </thead>\n",
       "  <tbody>\n",
       "    <tr>\n",
       "      <th>Agincourt</th>\n",
       "      <td>5</td>\n",
       "      <td>5</td>\n",
       "      <td>5</td>\n",
       "      <td>5</td>\n",
       "      <td>5</td>\n",
       "      <td>5</td>\n",
       "    </tr>\n",
       "    <tr>\n",
       "      <th>Alderwood, Long Branch</th>\n",
       "      <td>9</td>\n",
       "      <td>9</td>\n",
       "      <td>9</td>\n",
       "      <td>9</td>\n",
       "      <td>9</td>\n",
       "      <td>9</td>\n",
       "    </tr>\n",
       "    <tr>\n",
       "      <th>Bathurst Manor, Wilson Heights, Downsview North</th>\n",
       "      <td>21</td>\n",
       "      <td>21</td>\n",
       "      <td>21</td>\n",
       "      <td>21</td>\n",
       "      <td>21</td>\n",
       "      <td>21</td>\n",
       "    </tr>\n",
       "    <tr>\n",
       "      <th>Bayview Village</th>\n",
       "      <td>4</td>\n",
       "      <td>4</td>\n",
       "      <td>4</td>\n",
       "      <td>4</td>\n",
       "      <td>4</td>\n",
       "      <td>4</td>\n",
       "    </tr>\n",
       "    <tr>\n",
       "      <th>Bedford Park, Lawrence Manor East</th>\n",
       "      <td>23</td>\n",
       "      <td>23</td>\n",
       "      <td>23</td>\n",
       "      <td>23</td>\n",
       "      <td>23</td>\n",
       "      <td>23</td>\n",
       "    </tr>\n",
       "    <tr>\n",
       "      <th>...</th>\n",
       "      <td>...</td>\n",
       "      <td>...</td>\n",
       "      <td>...</td>\n",
       "      <td>...</td>\n",
       "      <td>...</td>\n",
       "      <td>...</td>\n",
       "    </tr>\n",
       "    <tr>\n",
       "      <th>Willowdale, Willowdale East</th>\n",
       "      <td>35</td>\n",
       "      <td>35</td>\n",
       "      <td>35</td>\n",
       "      <td>35</td>\n",
       "      <td>35</td>\n",
       "      <td>35</td>\n",
       "    </tr>\n",
       "    <tr>\n",
       "      <th>Willowdale, Willowdale West</th>\n",
       "      <td>7</td>\n",
       "      <td>7</td>\n",
       "      <td>7</td>\n",
       "      <td>7</td>\n",
       "      <td>7</td>\n",
       "      <td>7</td>\n",
       "    </tr>\n",
       "    <tr>\n",
       "      <th>Woburn</th>\n",
       "      <td>4</td>\n",
       "      <td>4</td>\n",
       "      <td>4</td>\n",
       "      <td>4</td>\n",
       "      <td>4</td>\n",
       "      <td>4</td>\n",
       "    </tr>\n",
       "    <tr>\n",
       "      <th>Woodbine Heights</th>\n",
       "      <td>7</td>\n",
       "      <td>7</td>\n",
       "      <td>7</td>\n",
       "      <td>7</td>\n",
       "      <td>7</td>\n",
       "      <td>7</td>\n",
       "    </tr>\n",
       "    <tr>\n",
       "      <th>York Mills West</th>\n",
       "      <td>2</td>\n",
       "      <td>2</td>\n",
       "      <td>2</td>\n",
       "      <td>2</td>\n",
       "      <td>2</td>\n",
       "      <td>2</td>\n",
       "    </tr>\n",
       "  </tbody>\n",
       "</table>\n",
       "<p>95 rows × 6 columns</p>\n",
       "</div>"
      ],
      "text/plain": [
       "                                                 Neighborhood Latitude  \\\n",
       "Neighborhood                                                             \n",
       "Agincourt                                                            5   \n",
       "Alderwood, Long Branch                                               9   \n",
       "Bathurst Manor, Wilson Heights, Downsview North                     21   \n",
       "Bayview Village                                                      4   \n",
       "Bedford Park, Lawrence Manor East                                   23   \n",
       "...                                                                ...   \n",
       "Willowdale, Willowdale East                                         35   \n",
       "Willowdale, Willowdale West                                          7   \n",
       "Woburn                                                               4   \n",
       "Woodbine Heights                                                     7   \n",
       "York Mills West                                                      2   \n",
       "\n",
       "                                                 Neighborhood Longitude  \\\n",
       "Neighborhood                                                              \n",
       "Agincourt                                                             5   \n",
       "Alderwood, Long Branch                                                9   \n",
       "Bathurst Manor, Wilson Heights, Downsview North                      21   \n",
       "Bayview Village                                                       4   \n",
       "Bedford Park, Lawrence Manor East                                    23   \n",
       "...                                                                 ...   \n",
       "Willowdale, Willowdale East                                          35   \n",
       "Willowdale, Willowdale West                                           7   \n",
       "Woburn                                                                4   \n",
       "Woodbine Heights                                                      7   \n",
       "York Mills West                                                       2   \n",
       "\n",
       "                                                 Venue  Venue Latitude  \\\n",
       "Neighborhood                                                             \n",
       "Agincourt                                            5               5   \n",
       "Alderwood, Long Branch                               9               9   \n",
       "Bathurst Manor, Wilson Heights, Downsview North     21              21   \n",
       "Bayview Village                                      4               4   \n",
       "Bedford Park, Lawrence Manor East                   23              23   \n",
       "...                                                ...             ...   \n",
       "Willowdale, Willowdale East                         35              35   \n",
       "Willowdale, Willowdale West                          7               7   \n",
       "Woburn                                               4               4   \n",
       "Woodbine Heights                                     7               7   \n",
       "York Mills West                                      2               2   \n",
       "\n",
       "                                                 Venue Longitude  \\\n",
       "Neighborhood                                                       \n",
       "Agincourt                                                      5   \n",
       "Alderwood, Long Branch                                         9   \n",
       "Bathurst Manor, Wilson Heights, Downsview North               21   \n",
       "Bayview Village                                                4   \n",
       "Bedford Park, Lawrence Manor East                             23   \n",
       "...                                                          ...   \n",
       "Willowdale, Willowdale East                                   35   \n",
       "Willowdale, Willowdale West                                    7   \n",
       "Woburn                                                         4   \n",
       "Woodbine Heights                                               7   \n",
       "York Mills West                                                2   \n",
       "\n",
       "                                                 Venue Category  \n",
       "Neighborhood                                                     \n",
       "Agincourt                                                     5  \n",
       "Alderwood, Long Branch                                        9  \n",
       "Bathurst Manor, Wilson Heights, Downsview North              21  \n",
       "Bayview Village                                               4  \n",
       "Bedford Park, Lawrence Manor East                            23  \n",
       "...                                                         ...  \n",
       "Willowdale, Willowdale East                                  35  \n",
       "Willowdale, Willowdale West                                   7  \n",
       "Woburn                                                        4  \n",
       "Woodbine Heights                                              7  \n",
       "York Mills West                                               2  \n",
       "\n",
       "[95 rows x 6 columns]"
      ]
     },
     "execution_count": 21,
     "metadata": {},
     "output_type": "execute_result"
    }
   ],
   "source": [
    "toronto_venues.groupby('Neighborhood').count()"
   ]
  },
  {
   "cell_type": "code",
   "execution_count": 22,
   "metadata": {},
   "outputs": [
    {
     "name": "stdout",
     "output_type": "stream",
     "text": [
      "There are 270 uniques categories.\n"
     ]
    }
   ],
   "source": [
    "print('There are {} uniques categories.'.format(len(toronto_venues['Venue Category'].unique())))"
   ]
  },
  {
   "cell_type": "markdown",
   "metadata": {},
   "source": [
    "### Encode the dataframe"
   ]
  },
  {
   "cell_type": "markdown",
   "metadata": {},
   "source": [
    "Lets's encode our dataframe excluding the nighbourhood column to make it easier for us to perform clustering."
   ]
  },
  {
   "cell_type": "code",
   "execution_count": 23,
   "metadata": {},
   "outputs": [
    {
     "data": {
      "text/html": [
       "<div>\n",
       "<style scoped>\n",
       "    .dataframe tbody tr th:only-of-type {\n",
       "        vertical-align: middle;\n",
       "    }\n",
       "\n",
       "    .dataframe tbody tr th {\n",
       "        vertical-align: top;\n",
       "    }\n",
       "\n",
       "    .dataframe thead th {\n",
       "        text-align: right;\n",
       "    }\n",
       "</style>\n",
       "<table border=\"1\" class=\"dataframe\">\n",
       "  <thead>\n",
       "    <tr style=\"text-align: right;\">\n",
       "      <th></th>\n",
       "      <th>Yoga Studio</th>\n",
       "      <th>Accessories Store</th>\n",
       "      <th>Afghan Restaurant</th>\n",
       "      <th>Airport</th>\n",
       "      <th>Airport Food Court</th>\n",
       "      <th>Airport Lounge</th>\n",
       "      <th>Airport Service</th>\n",
       "      <th>Airport Terminal</th>\n",
       "      <th>American Restaurant</th>\n",
       "      <th>Antique Shop</th>\n",
       "      <th>...</th>\n",
       "      <th>Trail</th>\n",
       "      <th>Train Station</th>\n",
       "      <th>Vegetarian / Vegan Restaurant</th>\n",
       "      <th>Video Game Store</th>\n",
       "      <th>Vietnamese Restaurant</th>\n",
       "      <th>Warehouse Store</th>\n",
       "      <th>Wine Bar</th>\n",
       "      <th>Wine Shop</th>\n",
       "      <th>Wings Joint</th>\n",
       "      <th>Women's Store</th>\n",
       "    </tr>\n",
       "  </thead>\n",
       "  <tbody>\n",
       "    <tr>\n",
       "      <th>0</th>\n",
       "      <td>0</td>\n",
       "      <td>0</td>\n",
       "      <td>0</td>\n",
       "      <td>0</td>\n",
       "      <td>0</td>\n",
       "      <td>0</td>\n",
       "      <td>0</td>\n",
       "      <td>0</td>\n",
       "      <td>0</td>\n",
       "      <td>0</td>\n",
       "      <td>...</td>\n",
       "      <td>0</td>\n",
       "      <td>0</td>\n",
       "      <td>0</td>\n",
       "      <td>0</td>\n",
       "      <td>0</td>\n",
       "      <td>0</td>\n",
       "      <td>0</td>\n",
       "      <td>0</td>\n",
       "      <td>0</td>\n",
       "      <td>0</td>\n",
       "    </tr>\n",
       "    <tr>\n",
       "      <th>1</th>\n",
       "      <td>0</td>\n",
       "      <td>0</td>\n",
       "      <td>0</td>\n",
       "      <td>0</td>\n",
       "      <td>0</td>\n",
       "      <td>0</td>\n",
       "      <td>0</td>\n",
       "      <td>0</td>\n",
       "      <td>0</td>\n",
       "      <td>0</td>\n",
       "      <td>...</td>\n",
       "      <td>0</td>\n",
       "      <td>0</td>\n",
       "      <td>0</td>\n",
       "      <td>0</td>\n",
       "      <td>0</td>\n",
       "      <td>0</td>\n",
       "      <td>0</td>\n",
       "      <td>0</td>\n",
       "      <td>0</td>\n",
       "      <td>0</td>\n",
       "    </tr>\n",
       "    <tr>\n",
       "      <th>2</th>\n",
       "      <td>0</td>\n",
       "      <td>0</td>\n",
       "      <td>0</td>\n",
       "      <td>0</td>\n",
       "      <td>0</td>\n",
       "      <td>0</td>\n",
       "      <td>0</td>\n",
       "      <td>0</td>\n",
       "      <td>0</td>\n",
       "      <td>0</td>\n",
       "      <td>...</td>\n",
       "      <td>0</td>\n",
       "      <td>0</td>\n",
       "      <td>0</td>\n",
       "      <td>0</td>\n",
       "      <td>0</td>\n",
       "      <td>0</td>\n",
       "      <td>0</td>\n",
       "      <td>0</td>\n",
       "      <td>0</td>\n",
       "      <td>0</td>\n",
       "    </tr>\n",
       "    <tr>\n",
       "      <th>3</th>\n",
       "      <td>0</td>\n",
       "      <td>0</td>\n",
       "      <td>0</td>\n",
       "      <td>0</td>\n",
       "      <td>0</td>\n",
       "      <td>0</td>\n",
       "      <td>0</td>\n",
       "      <td>0</td>\n",
       "      <td>0</td>\n",
       "      <td>0</td>\n",
       "      <td>...</td>\n",
       "      <td>0</td>\n",
       "      <td>0</td>\n",
       "      <td>0</td>\n",
       "      <td>0</td>\n",
       "      <td>0</td>\n",
       "      <td>0</td>\n",
       "      <td>0</td>\n",
       "      <td>0</td>\n",
       "      <td>0</td>\n",
       "      <td>0</td>\n",
       "    </tr>\n",
       "    <tr>\n",
       "      <th>4</th>\n",
       "      <td>0</td>\n",
       "      <td>0</td>\n",
       "      <td>0</td>\n",
       "      <td>0</td>\n",
       "      <td>0</td>\n",
       "      <td>0</td>\n",
       "      <td>0</td>\n",
       "      <td>0</td>\n",
       "      <td>0</td>\n",
       "      <td>0</td>\n",
       "      <td>...</td>\n",
       "      <td>0</td>\n",
       "      <td>0</td>\n",
       "      <td>0</td>\n",
       "      <td>0</td>\n",
       "      <td>0</td>\n",
       "      <td>0</td>\n",
       "      <td>0</td>\n",
       "      <td>0</td>\n",
       "      <td>0</td>\n",
       "      <td>0</td>\n",
       "    </tr>\n",
       "  </tbody>\n",
       "</table>\n",
       "<p>5 rows × 270 columns</p>\n",
       "</div>"
      ],
      "text/plain": [
       "   Yoga Studio  Accessories Store  Afghan Restaurant  Airport  \\\n",
       "0            0                  0                  0        0   \n",
       "1            0                  0                  0        0   \n",
       "2            0                  0                  0        0   \n",
       "3            0                  0                  0        0   \n",
       "4            0                  0                  0        0   \n",
       "\n",
       "   Airport Food Court  Airport Lounge  Airport Service  Airport Terminal  \\\n",
       "0                   0               0                0                 0   \n",
       "1                   0               0                0                 0   \n",
       "2                   0               0                0                 0   \n",
       "3                   0               0                0                 0   \n",
       "4                   0               0                0                 0   \n",
       "\n",
       "   American Restaurant  Antique Shop  ...  Trail  Train Station  \\\n",
       "0                    0             0  ...      0              0   \n",
       "1                    0             0  ...      0              0   \n",
       "2                    0             0  ...      0              0   \n",
       "3                    0             0  ...      0              0   \n",
       "4                    0             0  ...      0              0   \n",
       "\n",
       "   Vegetarian / Vegan Restaurant  Video Game Store  Vietnamese Restaurant  \\\n",
       "0                              0                 0                      0   \n",
       "1                              0                 0                      0   \n",
       "2                              0                 0                      0   \n",
       "3                              0                 0                      0   \n",
       "4                              0                 0                      0   \n",
       "\n",
       "   Warehouse Store  Wine Bar  Wine Shop  Wings Joint  Women's Store  \n",
       "0                0         0          0            0              0  \n",
       "1                0         0          0            0              0  \n",
       "2                0         0          0            0              0  \n",
       "3                0         0          0            0              0  \n",
       "4                0         0          0            0              0  \n",
       "\n",
       "[5 rows x 270 columns]"
      ]
     },
     "execution_count": 23,
     "metadata": {},
     "output_type": "execute_result"
    }
   ],
   "source": [
    "tor_onehot = pd.get_dummies(toronto_venues[['Venue Category']], prefix=\"\", prefix_sep=\"\")\n",
    "\n",
    "# add neighborhood column back to dataframe\n",
    "tor_onehot['Neighborhood'] = toronto_venues['Neighborhood'] \n",
    "\n",
    "# move neighborhood column to the first column\n",
    "fixed_columns = [tor_onehot.columns[-1]] + list(tor_onehot.columns[:-1])\n",
    "tor_onehot = tor_onehot[fixed_columns]\n",
    "\n",
    "tor_onehot.head()"
   ]
  },
  {
   "cell_type": "markdown",
   "metadata": {},
   "source": [
    "You cna observe that each of these venues may belong to one of the 270 categories of venues."
   ]
  },
  {
   "cell_type": "code",
   "execution_count": 24,
   "metadata": {},
   "outputs": [
    {
     "data": {
      "text/plain": [
       "(2132, 270)"
      ]
     },
     "execution_count": 24,
     "metadata": {},
     "output_type": "execute_result"
    }
   ],
   "source": [
    "tor_onehot.shape"
   ]
  },
  {
   "cell_type": "markdown",
   "metadata": {},
   "source": [
    "#### Let's group the above 2132 rows based on their neighborhood."
   ]
  },
  {
   "cell_type": "code",
   "execution_count": 25,
   "metadata": {},
   "outputs": [
    {
     "data": {
      "text/plain": [
       "<bound method DataFrame.info of                                        Neighborhood  Yoga Studio  \\\n",
       "0                                         Agincourt          0.0   \n",
       "1                            Alderwood, Long Branch          0.0   \n",
       "2   Bathurst Manor, Wilson Heights, Downsview North          0.0   \n",
       "3                                   Bayview Village          0.0   \n",
       "4                 Bedford Park, Lawrence Manor East          0.0   \n",
       "..                                              ...          ...   \n",
       "90                      Willowdale, Willowdale East          0.0   \n",
       "91                      Willowdale, Willowdale West          0.0   \n",
       "92                                           Woburn          0.0   \n",
       "93                                 Woodbine Heights          0.0   \n",
       "94                                  York Mills West          0.0   \n",
       "\n",
       "    Accessories Store  Afghan Restaurant  Airport  Airport Food Court  \\\n",
       "0                 0.0                0.0      0.0                 0.0   \n",
       "1                 0.0                0.0      0.0                 0.0   \n",
       "2                 0.0                0.0      0.0                 0.0   \n",
       "3                 0.0                0.0      0.0                 0.0   \n",
       "4                 0.0                0.0      0.0                 0.0   \n",
       "..                ...                ...      ...                 ...   \n",
       "90                0.0                0.0      0.0                 0.0   \n",
       "91                0.0                0.0      0.0                 0.0   \n",
       "92                0.0                0.0      0.0                 0.0   \n",
       "93                0.0                0.0      0.0                 0.0   \n",
       "94                0.0                0.0      0.0                 0.0   \n",
       "\n",
       "    Airport Lounge  Airport Service  Airport Terminal  American Restaurant  \\\n",
       "0              0.0              0.0               0.0             0.000000   \n",
       "1              0.0              0.0               0.0             0.000000   \n",
       "2              0.0              0.0               0.0             0.000000   \n",
       "3              0.0              0.0               0.0             0.000000   \n",
       "4              0.0              0.0               0.0             0.043478   \n",
       "..             ...              ...               ...                  ...   \n",
       "90             0.0              0.0               0.0             0.000000   \n",
       "91             0.0              0.0               0.0             0.000000   \n",
       "92             0.0              0.0               0.0             0.000000   \n",
       "93             0.0              0.0               0.0             0.000000   \n",
       "94             0.0              0.0               0.0             0.000000   \n",
       "\n",
       "    ...  Trail  Train Station  Vegetarian / Vegan Restaurant  \\\n",
       "0   ...    0.0            0.0                            0.0   \n",
       "1   ...    0.0            0.0                            0.0   \n",
       "2   ...    0.0            0.0                            0.0   \n",
       "3   ...    0.0            0.0                            0.0   \n",
       "4   ...    0.0            0.0                            0.0   \n",
       "..  ...    ...            ...                            ...   \n",
       "90  ...    0.0            0.0                            0.0   \n",
       "91  ...    0.0            0.0                            0.0   \n",
       "92  ...    0.0            0.0                            0.0   \n",
       "93  ...    0.0            0.0                            0.0   \n",
       "94  ...    0.0            0.0                            0.0   \n",
       "\n",
       "    Video Game Store  Vietnamese Restaurant  Warehouse Store  Wine Bar  \\\n",
       "0                0.0               0.000000              0.0       0.0   \n",
       "1                0.0               0.000000              0.0       0.0   \n",
       "2                0.0               0.000000              0.0       0.0   \n",
       "3                0.0               0.000000              0.0       0.0   \n",
       "4                0.0               0.000000              0.0       0.0   \n",
       "..               ...                    ...              ...       ...   \n",
       "90               0.0               0.028571              0.0       0.0   \n",
       "91               0.0               0.000000              0.0       0.0   \n",
       "92               0.0               0.000000              0.0       0.0   \n",
       "93               0.0               0.000000              0.0       0.0   \n",
       "94               0.0               0.000000              0.0       0.0   \n",
       "\n",
       "    Wine Shop  Wings Joint  Women's Store  \n",
       "0         0.0          0.0            0.0  \n",
       "1         0.0          0.0            0.0  \n",
       "2         0.0          0.0            0.0  \n",
       "3         0.0          0.0            0.0  \n",
       "4         0.0          0.0            0.0  \n",
       "..        ...          ...            ...  \n",
       "90        0.0          0.0            0.0  \n",
       "91        0.0          0.0            0.0  \n",
       "92        0.0          0.0            0.0  \n",
       "93        0.0          0.0            0.0  \n",
       "94        0.0          0.0            0.0  \n",
       "\n",
       "[95 rows x 270 columns]>"
      ]
     },
     "execution_count": 25,
     "metadata": {},
     "output_type": "execute_result"
    }
   ],
   "source": [
    "tor_grouped = tor_onehot.groupby('Neighborhood').mean().reset_index()\n",
    "tor_grouped.info"
   ]
  },
  {
   "cell_type": "code",
   "execution_count": 26,
   "metadata": {},
   "outputs": [],
   "source": [
    "# You have successfully classified them into their neighbourhoods"
   ]
  },
  {
   "cell_type": "code",
   "execution_count": 27,
   "metadata": {},
   "outputs": [
    {
     "data": {
      "text/plain": [
       "(95, 270)"
      ]
     },
     "execution_count": 27,
     "metadata": {},
     "output_type": "execute_result"
    }
   ],
   "source": [
    "tor_grouped.shape"
   ]
  },
  {
   "cell_type": "markdown",
   "metadata": {},
   "source": [
    "### Find the 10 top venues in each neighborhood."
   ]
  },
  {
   "cell_type": "markdown",
   "metadata": {},
   "source": [
    "Now let's find out the top 10 venues in each of these 95 neighborhoods as was grouped above."
   ]
  },
  {
   "cell_type": "code",
   "execution_count": 28,
   "metadata": {},
   "outputs": [],
   "source": [
    "def return_most_common_venues(row, num_top_venues):\n",
    "    row_categories = row.iloc[1:]\n",
    "    row_categories_sorted = row_categories.sort_values(ascending=False)\n",
    "    \n",
    "    return row_categories_sorted.index.values[0:num_top_venues]"
   ]
  },
  {
   "cell_type": "code",
   "execution_count": 29,
   "metadata": {},
   "outputs": [
    {
     "data": {
      "text/html": [
       "<div>\n",
       "<style scoped>\n",
       "    .dataframe tbody tr th:only-of-type {\n",
       "        vertical-align: middle;\n",
       "    }\n",
       "\n",
       "    .dataframe tbody tr th {\n",
       "        vertical-align: top;\n",
       "    }\n",
       "\n",
       "    .dataframe thead th {\n",
       "        text-align: right;\n",
       "    }\n",
       "</style>\n",
       "<table border=\"1\" class=\"dataframe\">\n",
       "  <thead>\n",
       "    <tr style=\"text-align: right;\">\n",
       "      <th></th>\n",
       "      <th>Neighborhood</th>\n",
       "      <th>1st Most Common Venue</th>\n",
       "      <th>2nd Most Common Venue</th>\n",
       "      <th>3rd Most Common Venue</th>\n",
       "      <th>4th Most Common Venue</th>\n",
       "      <th>5th Most Common Venue</th>\n",
       "      <th>6th Most Common Venue</th>\n",
       "      <th>7th Most Common Venue</th>\n",
       "      <th>8th Most Common Venue</th>\n",
       "      <th>9th Most Common Venue</th>\n",
       "      <th>10th Most Common Venue</th>\n",
       "    </tr>\n",
       "  </thead>\n",
       "  <tbody>\n",
       "    <tr>\n",
       "      <th>0</th>\n",
       "      <td>Agincourt</td>\n",
       "      <td>Lounge</td>\n",
       "      <td>Skating Rink</td>\n",
       "      <td>Latin American Restaurant</td>\n",
       "      <td>Clothing Store</td>\n",
       "      <td>Breakfast Spot</td>\n",
       "      <td>Drugstore</td>\n",
       "      <td>Discount Store</td>\n",
       "      <td>Distribution Center</td>\n",
       "      <td>Dog Run</td>\n",
       "      <td>Doner Restaurant</td>\n",
       "    </tr>\n",
       "    <tr>\n",
       "      <th>1</th>\n",
       "      <td>Alderwood, Long Branch</td>\n",
       "      <td>Pizza Place</td>\n",
       "      <td>Coffee Shop</td>\n",
       "      <td>Pub</td>\n",
       "      <td>Sandwich Place</td>\n",
       "      <td>Dance Studio</td>\n",
       "      <td>Pharmacy</td>\n",
       "      <td>Gym</td>\n",
       "      <td>Skating Rink</td>\n",
       "      <td>Eastern European Restaurant</td>\n",
       "      <td>Drugstore</td>\n",
       "    </tr>\n",
       "    <tr>\n",
       "      <th>2</th>\n",
       "      <td>Bathurst Manor, Wilson Heights, Downsview North</td>\n",
       "      <td>Bank</td>\n",
       "      <td>Coffee Shop</td>\n",
       "      <td>Shopping Mall</td>\n",
       "      <td>Chinese Restaurant</td>\n",
       "      <td>Supermarket</td>\n",
       "      <td>Deli / Bodega</td>\n",
       "      <td>Sushi Restaurant</td>\n",
       "      <td>Mobile Phone Shop</td>\n",
       "      <td>Ice Cream Shop</td>\n",
       "      <td>Restaurant</td>\n",
       "    </tr>\n",
       "    <tr>\n",
       "      <th>3</th>\n",
       "      <td>Bayview Village</td>\n",
       "      <td>Café</td>\n",
       "      <td>Japanese Restaurant</td>\n",
       "      <td>Bank</td>\n",
       "      <td>Chinese Restaurant</td>\n",
       "      <td>Women's Store</td>\n",
       "      <td>Diner</td>\n",
       "      <td>Discount Store</td>\n",
       "      <td>Distribution Center</td>\n",
       "      <td>Dog Run</td>\n",
       "      <td>Doner Restaurant</td>\n",
       "    </tr>\n",
       "    <tr>\n",
       "      <th>4</th>\n",
       "      <td>Bedford Park, Lawrence Manor East</td>\n",
       "      <td>Sandwich Place</td>\n",
       "      <td>Restaurant</td>\n",
       "      <td>Italian Restaurant</td>\n",
       "      <td>Coffee Shop</td>\n",
       "      <td>Comfort Food Restaurant</td>\n",
       "      <td>Thai Restaurant</td>\n",
       "      <td>Juice Bar</td>\n",
       "      <td>Butcher</td>\n",
       "      <td>Pub</td>\n",
       "      <td>Indian Restaurant</td>\n",
       "    </tr>\n",
       "  </tbody>\n",
       "</table>\n",
       "</div>"
      ],
      "text/plain": [
       "                                      Neighborhood 1st Most Common Venue  \\\n",
       "0                                        Agincourt                Lounge   \n",
       "1                           Alderwood, Long Branch           Pizza Place   \n",
       "2  Bathurst Manor, Wilson Heights, Downsview North                  Bank   \n",
       "3                                  Bayview Village                  Café   \n",
       "4                Bedford Park, Lawrence Manor East        Sandwich Place   \n",
       "\n",
       "  2nd Most Common Venue      3rd Most Common Venue 4th Most Common Venue  \\\n",
       "0          Skating Rink  Latin American Restaurant        Clothing Store   \n",
       "1           Coffee Shop                        Pub        Sandwich Place   \n",
       "2           Coffee Shop              Shopping Mall    Chinese Restaurant   \n",
       "3   Japanese Restaurant                       Bank    Chinese Restaurant   \n",
       "4            Restaurant         Italian Restaurant           Coffee Shop   \n",
       "\n",
       "     5th Most Common Venue 6th Most Common Venue 7th Most Common Venue  \\\n",
       "0           Breakfast Spot             Drugstore        Discount Store   \n",
       "1             Dance Studio              Pharmacy                   Gym   \n",
       "2              Supermarket         Deli / Bodega      Sushi Restaurant   \n",
       "3            Women's Store                 Diner        Discount Store   \n",
       "4  Comfort Food Restaurant       Thai Restaurant             Juice Bar   \n",
       "\n",
       "  8th Most Common Venue        9th Most Common Venue 10th Most Common Venue  \n",
       "0   Distribution Center                      Dog Run       Doner Restaurant  \n",
       "1          Skating Rink  Eastern European Restaurant              Drugstore  \n",
       "2     Mobile Phone Shop               Ice Cream Shop             Restaurant  \n",
       "3   Distribution Center                      Dog Run       Doner Restaurant  \n",
       "4               Butcher                          Pub      Indian Restaurant  "
      ]
     },
     "execution_count": 29,
     "metadata": {},
     "output_type": "execute_result"
    }
   ],
   "source": [
    "num_top_venues = 10\n",
    "\n",
    "indicators = ['st', 'nd', 'rd']\n",
    "\n",
    "# create columns according to number of top venues\n",
    "columns = ['Neighborhood']\n",
    "for ind in np.arange(num_top_venues):\n",
    "    try:\n",
    "        columns.append('{}{} Most Common Venue'.format(ind+1, indicators[ind]))\n",
    "    except:\n",
    "        columns.append('{}th Most Common Venue'.format(ind+1))\n",
    "\n",
    "# create a new dataframe\n",
    "neighborhoods_venues_sorted = pd.DataFrame(columns=columns)\n",
    "neighborhoods_venues_sorted['Neighborhood'] = tor_grouped['Neighborhood']\n",
    "\n",
    "for ind in np.arange(tor_grouped.shape[0]):\n",
    "    neighborhoods_venues_sorted.iloc[ind, 1:] = return_most_common_venues(tor_grouped.iloc[ind, :], num_top_venues)\n",
    "\n",
    "neighborhoods_venues_sorted.head()"
   ]
  },
  {
   "cell_type": "markdown",
   "metadata": {},
   "source": [
    "### Import necessary packages and initialize a kmeans algo."
   ]
  },
  {
   "cell_type": "markdown",
   "metadata": {},
   "source": [
    "#### Now, since we have found out the top 10 common venues present in each neighbourhood, we can now proceed to cluster these based on the venue categories present in each neighborhood."
   ]
  },
  {
   "cell_type": "code",
   "execution_count": 30,
   "metadata": {},
   "outputs": [
    {
     "data": {
      "text/plain": [
       "array([0, 0, 0, 0, 0, 0, 0, 0, 0, 0], dtype=int32)"
      ]
     },
     "execution_count": 30,
     "metadata": {},
     "output_type": "execute_result"
    }
   ],
   "source": [
    "from sklearn.cluster import KMeans\n",
    "kclusters = 5\n",
    "\n",
    "tor_grouped_cluster = tor_grouped.drop('Neighborhood', 1)\n",
    "\n",
    "# run k-means clustering\n",
    "kmeans = KMeans(n_clusters=kclusters, random_state=0).fit(tor_grouped_cluster)\n",
    "\n",
    "# check cluster labels generated for each row in the dataframe\n",
    "kmeans.labels_[0:10] "
   ]
  },
  {
   "cell_type": "code",
   "execution_count": 31,
   "metadata": {},
   "outputs": [
    {
     "data": {
      "text/plain": [
       "array([0, 0, 0, 0, 0, 0, 0, 0, 0, 0, 2, 0, 0, 0, 0, 0, 0, 0, 0, 0, 0, 0,\n",
       "       0, 0, 0, 0, 2, 0, 0, 0, 0, 0, 0, 0, 0, 0, 0, 0, 0, 0, 0, 0, 0, 0,\n",
       "       0, 0, 0, 0, 0, 3, 2, 0, 2, 0, 0, 0, 0, 0, 0, 0, 0, 2, 0, 0, 0, 2,\n",
       "       0, 4, 0, 0, 2, 0, 0, 0, 0, 0, 0, 0, 0, 0, 0, 2, 0, 0, 0, 0, 1, 0,\n",
       "       2, 0, 0, 0, 0, 0, 2], dtype=int32)"
      ]
     },
     "execution_count": 31,
     "metadata": {},
     "output_type": "execute_result"
    }
   ],
   "source": [
    "kmeans.labels_"
   ]
  },
  {
   "cell_type": "markdown",
   "metadata": {},
   "source": [
    "### Add cluster labels to the dataframe"
   ]
  },
  {
   "cell_type": "markdown",
   "metadata": {},
   "source": [
    "#### We have succesfully categorized each neighborhood into their respective clusters, now let's add a column which depicts the cluster number into the dataframe."
   ]
  },
  {
   "cell_type": "code",
   "execution_count": 32,
   "metadata": {},
   "outputs": [
    {
     "data": {
      "text/html": [
       "<div>\n",
       "<style scoped>\n",
       "    .dataframe tbody tr th:only-of-type {\n",
       "        vertical-align: middle;\n",
       "    }\n",
       "\n",
       "    .dataframe tbody tr th {\n",
       "        vertical-align: top;\n",
       "    }\n",
       "\n",
       "    .dataframe thead th {\n",
       "        text-align: right;\n",
       "    }\n",
       "</style>\n",
       "<table border=\"1\" class=\"dataframe\">\n",
       "  <thead>\n",
       "    <tr style=\"text-align: right;\">\n",
       "      <th></th>\n",
       "      <th>Postal Code</th>\n",
       "      <th>Borough</th>\n",
       "      <th>Neighborhood</th>\n",
       "      <th>Latitude</th>\n",
       "      <th>Longitude</th>\n",
       "      <th>Cluster Labels</th>\n",
       "      <th>1st Most Common Venue</th>\n",
       "      <th>2nd Most Common Venue</th>\n",
       "      <th>3rd Most Common Venue</th>\n",
       "      <th>4th Most Common Venue</th>\n",
       "      <th>5th Most Common Venue</th>\n",
       "      <th>6th Most Common Venue</th>\n",
       "      <th>7th Most Common Venue</th>\n",
       "      <th>8th Most Common Venue</th>\n",
       "      <th>9th Most Common Venue</th>\n",
       "      <th>10th Most Common Venue</th>\n",
       "    </tr>\n",
       "  </thead>\n",
       "  <tbody>\n",
       "    <tr>\n",
       "      <th>0</th>\n",
       "      <td>M3A</td>\n",
       "      <td>North York</td>\n",
       "      <td>Parkwoods</td>\n",
       "      <td>43.753259</td>\n",
       "      <td>-79.329656</td>\n",
       "      <td>2.0</td>\n",
       "      <td>Food &amp; Drink Shop</td>\n",
       "      <td>Park</td>\n",
       "      <td>Drugstore</td>\n",
       "      <td>Diner</td>\n",
       "      <td>Discount Store</td>\n",
       "      <td>Distribution Center</td>\n",
       "      <td>Dog Run</td>\n",
       "      <td>Doner Restaurant</td>\n",
       "      <td>Donut Shop</td>\n",
       "      <td>Women's Store</td>\n",
       "    </tr>\n",
       "    <tr>\n",
       "      <th>1</th>\n",
       "      <td>M4A</td>\n",
       "      <td>North York</td>\n",
       "      <td>Victoria Village</td>\n",
       "      <td>43.725882</td>\n",
       "      <td>-79.315572</td>\n",
       "      <td>0.0</td>\n",
       "      <td>French Restaurant</td>\n",
       "      <td>Pizza Place</td>\n",
       "      <td>Coffee Shop</td>\n",
       "      <td>Hockey Arena</td>\n",
       "      <td>Intersection</td>\n",
       "      <td>Portuguese Restaurant</td>\n",
       "      <td>Women's Store</td>\n",
       "      <td>Distribution Center</td>\n",
       "      <td>Dessert Shop</td>\n",
       "      <td>Dim Sum Restaurant</td>\n",
       "    </tr>\n",
       "    <tr>\n",
       "      <th>2</th>\n",
       "      <td>M5A</td>\n",
       "      <td>Downtown Toronto</td>\n",
       "      <td>Regent Park, Harbourfront</td>\n",
       "      <td>43.654260</td>\n",
       "      <td>-79.360636</td>\n",
       "      <td>0.0</td>\n",
       "      <td>Coffee Shop</td>\n",
       "      <td>Park</td>\n",
       "      <td>Pub</td>\n",
       "      <td>Bakery</td>\n",
       "      <td>Breakfast Spot</td>\n",
       "      <td>Café</td>\n",
       "      <td>Theater</td>\n",
       "      <td>Historic Site</td>\n",
       "      <td>Performing Arts Venue</td>\n",
       "      <td>Spa</td>\n",
       "    </tr>\n",
       "    <tr>\n",
       "      <th>3</th>\n",
       "      <td>M6A</td>\n",
       "      <td>North York</td>\n",
       "      <td>Lawrence Manor, Lawrence Heights</td>\n",
       "      <td>43.718518</td>\n",
       "      <td>-79.464763</td>\n",
       "      <td>0.0</td>\n",
       "      <td>Clothing Store</td>\n",
       "      <td>Furniture / Home Store</td>\n",
       "      <td>Shoe Store</td>\n",
       "      <td>Miscellaneous Shop</td>\n",
       "      <td>Coffee Shop</td>\n",
       "      <td>Event Space</td>\n",
       "      <td>Vietnamese Restaurant</td>\n",
       "      <td>Boutique</td>\n",
       "      <td>Accessories Store</td>\n",
       "      <td>Electronics Store</td>\n",
       "    </tr>\n",
       "    <tr>\n",
       "      <th>4</th>\n",
       "      <td>M7A</td>\n",
       "      <td>Downtown Toronto</td>\n",
       "      <td>Queen's Park, Ontario Provincial Government</td>\n",
       "      <td>43.662301</td>\n",
       "      <td>-79.389494</td>\n",
       "      <td>0.0</td>\n",
       "      <td>Coffee Shop</td>\n",
       "      <td>Diner</td>\n",
       "      <td>Sushi Restaurant</td>\n",
       "      <td>Café</td>\n",
       "      <td>Bar</td>\n",
       "      <td>Bank</td>\n",
       "      <td>Italian Restaurant</td>\n",
       "      <td>Mexican Restaurant</td>\n",
       "      <td>Discount Store</td>\n",
       "      <td>Fried Chicken Joint</td>\n",
       "    </tr>\n",
       "  </tbody>\n",
       "</table>\n",
       "</div>"
      ],
      "text/plain": [
       "  Postal Code           Borough                                 Neighborhood  \\\n",
       "0         M3A        North York                                    Parkwoods   \n",
       "1         M4A        North York                             Victoria Village   \n",
       "2         M5A  Downtown Toronto                    Regent Park, Harbourfront   \n",
       "3         M6A        North York             Lawrence Manor, Lawrence Heights   \n",
       "4         M7A  Downtown Toronto  Queen's Park, Ontario Provincial Government   \n",
       "\n",
       "    Latitude  Longitude  Cluster Labels 1st Most Common Venue  \\\n",
       "0  43.753259 -79.329656             2.0     Food & Drink Shop   \n",
       "1  43.725882 -79.315572             0.0     French Restaurant   \n",
       "2  43.654260 -79.360636             0.0           Coffee Shop   \n",
       "3  43.718518 -79.464763             0.0        Clothing Store   \n",
       "4  43.662301 -79.389494             0.0           Coffee Shop   \n",
       "\n",
       "    2nd Most Common Venue 3rd Most Common Venue 4th Most Common Venue  \\\n",
       "0                    Park             Drugstore                 Diner   \n",
       "1             Pizza Place           Coffee Shop          Hockey Arena   \n",
       "2                    Park                   Pub                Bakery   \n",
       "3  Furniture / Home Store            Shoe Store    Miscellaneous Shop   \n",
       "4                   Diner      Sushi Restaurant                  Café   \n",
       "\n",
       "  5th Most Common Venue  6th Most Common Venue  7th Most Common Venue  \\\n",
       "0        Discount Store    Distribution Center                Dog Run   \n",
       "1          Intersection  Portuguese Restaurant          Women's Store   \n",
       "2        Breakfast Spot                   Café                Theater   \n",
       "3           Coffee Shop            Event Space  Vietnamese Restaurant   \n",
       "4                   Bar                   Bank     Italian Restaurant   \n",
       "\n",
       "  8th Most Common Venue  9th Most Common Venue 10th Most Common Venue  \n",
       "0      Doner Restaurant             Donut Shop          Women's Store  \n",
       "1   Distribution Center           Dessert Shop     Dim Sum Restaurant  \n",
       "2         Historic Site  Performing Arts Venue                    Spa  \n",
       "3              Boutique      Accessories Store      Electronics Store  \n",
       "4    Mexican Restaurant         Discount Store    Fried Chicken Joint  "
      ]
     },
     "execution_count": 32,
     "metadata": {},
     "output_type": "execute_result"
    }
   ],
   "source": [
    "# add clustering labels\n",
    "neighborhoods_venues_sorted.insert(0, 'Cluster Labels', kmeans.labels_)\n",
    "\n",
    "tor_merged = df\n",
    "\n",
    "# merge toronto_grouped with toronto_data to add latitude/longitude for each neighborhood\n",
    "tor_merged = df.join(neighborhoods_venues_sorted.set_index('Neighborhood'), on='Neighborhood')\n",
    "\n",
    "tor_merged.head() # check the last columns!"
   ]
  },
  {
   "cell_type": "code",
   "execution_count": 33,
   "metadata": {},
   "outputs": [
    {
     "data": {
      "text/plain": [
       "(103, 16)"
      ]
     },
     "execution_count": 33,
     "metadata": {},
     "output_type": "execute_result"
    }
   ],
   "source": [
    "tor_merged.shape\n",
    "#this dataframe represents the latitude, longitude, and the top 10 venue categories present in each borough."
   ]
  },
  {
   "cell_type": "markdown",
   "metadata": {},
   "source": [
    "### Remove the rows where the cluster label maybe NA"
   ]
  },
  {
   "cell_type": "markdown",
   "metadata": {},
   "source": [
    "#### Now, it's quite possible that some of these neighbourhoods may not belong to any of the clusters, and hence they're called outliers. Let's proceed and remove such outliers from our data."
   ]
  },
  {
   "cell_type": "code",
   "execution_count": 34,
   "metadata": {},
   "outputs": [],
   "source": [
    "tor_merged=tor_merged.dropna(axis=0)"
   ]
  },
  {
   "cell_type": "code",
   "execution_count": 35,
   "metadata": {},
   "outputs": [],
   "source": [
    "tor_merged['Cluster Labels']=tor_merged['Cluster Labels'].astype('int')"
   ]
  },
  {
   "cell_type": "markdown",
   "metadata": {},
   "source": [
    "### Plot the Map showing the clusters."
   ]
  },
  {
   "cell_type": "markdown",
   "metadata": {},
   "source": [
    "##### Check the below map which represent the various clusters using different colors for each cluster."
   ]
  },
  {
   "cell_type": "code",
   "execution_count": 36,
   "metadata": {},
   "outputs": [],
   "source": [
    "import matplotlib.cm as cm\n",
    "import matplotlib.colors as colors\n",
    "\n",
    "map_clusters = folium.Map(location=[latitude, longitude], zoom_start=11)\n",
    "\n",
    "# set color scheme for the clusters\n",
    "x = np.arange(kclusters)\n",
    "ys = [i + x + (i*x)**2 for i in range(kclusters)]\n",
    "colors_array = cm.rainbow(np.linspace(0, 1, len(ys)))\n",
    "rainbow = [colors.rgb2hex(i) for i in colors_array]\n",
    "\n",
    "#rainbow[cluster]"
   ]
  },
  {
   "cell_type": "code",
   "execution_count": 37,
   "metadata": {},
   "outputs": [
    {
     "data": {
      "text/html": [
       "<div style=\"width:100%;\"><div style=\"position:relative;width:100%;height:0;padding-bottom:60%;\"><span style=\"color:#565656\">Make this Notebook Trusted to load map: File -> Trust Notebook</span><iframe src=\"about:blank\" style=\"position:absolute;width:100%;height:100%;left:0;top:0;border:none !important;\" data-html=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 onload=\"this.contentDocument.open();this.contentDocument.write(atob(this.getAttribute('data-html')));this.contentDocument.close();\" allowfullscreen webkitallowfullscreen mozallowfullscreen></iframe></div></div>"
      ],
      "text/plain": [
       "<folium.folium.Map at 0x7fc8604caa10>"
      ]
     },
     "execution_count": 37,
     "metadata": {},
     "output_type": "execute_result"
    }
   ],
   "source": [
    "# add markers to the map\n",
    "markers_colors = []\n",
    "for lat, lon, poi, cluster in zip(tor_merged['Latitude'], tor_merged['Longitude'], tor_merged['Neighborhood'], tor_merged['Cluster Labels']):\n",
    "    label = folium.Popup(str(poi) + ' Cluster ' + str(cluster), parse_html=True)\n",
    "    folium.CircleMarker(\n",
    "        [lat, lon],\n",
    "        radius=5,\n",
    "        popup=label,\n",
    "        color=rainbow[cluster-1],\n",
    "        fill=True,\n",
    "        fill_color=rainbow[cluster-1],\n",
    "        fill_opacity=0.7).add_to(map_clusters)\n",
    "       \n",
    "map_clusters"
   ]
  }
 ],
 "metadata": {
  "kernelspec": {
   "display_name": "Python 3",
   "language": "python",
   "name": "python3"
  },
  "language_info": {
   "codemirror_mode": {
    "name": "ipython",
    "version": 3
   },
   "file_extension": ".py",
   "mimetype": "text/x-python",
   "name": "python",
   "nbconvert_exporter": "python",
   "pygments_lexer": "ipython3",
   "version": "3.7.6"
  }
 },
 "nbformat": 4,
 "nbformat_minor": 4
}
